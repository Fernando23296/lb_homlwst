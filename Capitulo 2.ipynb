{
 "cells": [
  {
   "cell_type": "markdown",
   "metadata": {},
   "source": [
    "## Capitulo 2\n",
    "## End-to-End Machine Learning Project\n",
    "\n"
   ]
  },
  {
   "cell_type": "markdown",
   "metadata": {},
   "source": [
    "Los pasos principales a seguir siendo un data scientist:\n",
    "* Mirar la imagen completa.\n",
    "* Obtener los datos.\n",
    "* Descubrir y visualizar los datos para obtener ideas.\n",
    "* Preparar los datos para los algoritmos de Machine Learning.\n",
    "* Seleccionar los modelos y entrenarlos.\n",
    "* Afinar el modelo.\n",
    "* Presentar una solución.\n",
    "* Lanzar, monitorear y mantener el sistema.\n",
    "<br>\n",
    "#### Trabajar con datos reales\n",
    "Cuando se trabaja con ML es lo mejor experimentar con datos del mundo real, no solo datasets artificiales. Afortunadamente hay miles de datasets abiertos de donde se puede elegir, abarcando todo tipo de dominios. A continuacion lugares donde se puede conseguir datos:\n",
    "* "
   ]
  }
 ],
 "metadata": {
  "kernelspec": {
   "display_name": "Python 3",
   "language": "python",
   "name": "python3"
  },
  "language_info": {
   "codemirror_mode": {
    "name": "ipython",
    "version": 3
   },
   "file_extension": ".py",
   "mimetype": "text/x-python",
   "name": "python",
   "nbconvert_exporter": "python",
   "pygments_lexer": "ipython3",
   "version": "3.7.3"
  }
 },
 "nbformat": 4,
 "nbformat_minor": 2
}
