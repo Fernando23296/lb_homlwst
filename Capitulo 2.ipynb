{
 "cells": [
  {
   "cell_type": "markdown",
   "metadata": {},
   "source": [
    "## Capitulo 2\n",
    "## End-to-End Machine Learning Project\n",
    "\n"
   ]
  },
  {
   "cell_type": "markdown",
   "metadata": {},
   "source": [
    "Los pasos principales a seguir siendo un data scientist:\n",
    "* Mirar la imagen completa.\n",
    "* Obtener los datos.\n",
    "* Descubrir y visualizar los datos para obtener ideas.\n",
    "* Preparar los datos para los algoritmos de Machine Learning.\n",
    "* Seleccionar los modelos y entrenarlos.\n",
    "* Afinar el modelo.\n",
    "* Presentar una solución.\n",
    "* Lanzar, monitorear y mantener el sistema.\n",
    "<br>\n",
    "\n",
    "#### Trabajar con datos reales\n",
    "Cuando se trabaja con ML es lo mejor experimentar con datos del mundo real, no solo datasets artificiales. Afortunadamente hay miles de datasets abiertos de donde se puede elegir, abarcando todo tipo de dominios. A continuacion lugares donde se puede conseguir datos:\n",
    "* UCI\n",
    "* Kaggle Datasets\n",
    "* Amazon AWS datasets\n",
    "* Wikipedia's list of ML datasets\n",
    "\n",
    "Ahora usaremos el dataset de \"California Housing Prices\" del repositorio StatLib. Este esta basado en los datos del censo de 1990 de California, no es exacto pero tiene muchas cualidades para el aprendizaje, asi que vamos a pretender que son datos recientes. Tambien añadimos un atributo categórico y eliminamos algunas caracteristicas para aprender mejor (?).\n",
    "\n",
    "#### Mirar la imagen completa\n",
    "La primera tarea es el de construir un modelo de los precios de las casas en California usando los datos del censo de California. Estos datos tienen metricas como el de la poblacion, ingreso medio, precio medio de las viviendas, y asi para cada grupo de bloque en California. Los grupos de bloques son las unidades geograficas mas pequeñas que el <i>US Census Bureau</i> publica en sus ejemplos de datos (Un grupo de bloque puede tener una poblacion de 600 a 3000 personas). Los llamaremos distritos a modo de abreviar. \n",
    "<br>\n",
    "El modelo debera aprender de los datos y ser capaz de predecir el precio medio de las casas de cada distrito, dados todas las metricas.\n",
    "<br>\n",
    "\n",
    "#### Enmarcar el problema\n",
    "La primera pregunta a hacerse en la compañia (suponiendo que trabajas en una compañia donde te dan este trabajo de ML) es el de ¿Cual es exactamente el objetivo del negocio?; construir un modelo no es probablemente el objetivo final. ¿Como la compañia espera usar y beneficiarse de este modelo? Esto es importante porque determinara como enmarcar el problema, que algoritmos usar, que medida de rendimiento ser usara para evaluar el modelo, y que tanto esfuerzo se \"gastara\" para ajustarlo.\n",
    "\n",
    "Las salidas de nuestro modelo (una prediccion de los precios medios de las casas)\"alimentaran\" nuestro otro sistema de ML, a lo largo de muchas señales (?). Este sistema downstream determinara si vale la pena invertir en una determinada area o no. Hacer esto bien es critico ya que afecta directamente a los ingresos (?). \n",
    "\n",
    "La siguiente pregunta a hacerse es: a que se parece la solucion actual. A menudo te dará una referencia de rendimiento, así como información de como resolver el problema. \n",
    "En la empresa (\"donde trabajas\") dicen que los precios de las viviendas del distrito son actualmente estimados de manera manual por expertos: un equipo que recolecta informacion actualizada de los distritos, cuando no pueden hallar la promedio del precio de la vivienda, lo hallan usando estimaciones.\n",
    "\n",
    "Todo este proceso es costoso y toma tiempo, a parte las estimaciones no son buenas; en los casos donde logran averiguar cual era realmente el precio, se dan cuenta que su prediccion está por debajo del 20%. Esto es el porque la compañia cree que seria util entrenar un modelo para predecir el precio medio de los precios de los distritos de las casas, dado otros dato sobre el distrito. Los datos del censo parecen ser un buen dataset a explotar, ya que incluye precios promedios de los miles de distritos, asi como otros buenos datos.\n",
    "\n",
    "Con toda esta informacion podemos empezar a diseñar nuestro sistema. Primero, necesitamos saber el frame del problema, es supervisado, no supervisado o reforzado? es de clasificacion o regresion? deberiamos usar batch learning u online learning?\n",
    "\n",
    "Respondiendo a las preguntas previas tenemos que¨: es claramente un problema de aprendizaje supervisdo ya que tenemos etiquetas (labels) en nuestros ejemplos de entrenamiento (training examples). Tambien es una tarea tipica de regresion lineal,  ya que se nos pide predecir un valor. Siendo mas especificos, se trata de un problema de Regresion Multiple ya que el sistem usará multiples caracteristicas para hacer una prediccion (usará la poblacion por distrito, el promedio de ingresos, etc). Tambien es un problema <b>univariate regression</b> ya que solo estamos tratando de predecir un valor unico para cada distrito.  Si estuviesemos tratando de predecir multiples valores por distrito, entonces seria un problema de <b>Regresion Multivariate</b>. Finalmente, no hay un flujo continuonde datos entrando al sistema, asi que no hay necesidad de ajustar los datos cambiantes rapidamente, y los datos son lo suficientemente pequeños para caber en la maemoria, asi que usar batch learning esta bien.\n",
    "\n",
    "<i>Si la data fuera grande, podrias o bien dividir el trabajo de aprendizaje por lotes(batch learning) en varios servidores (usando una tecnica de MapReduce) o utilizar aprendizaje en linea (online learning).  </i>\n",
    "\n",
    "#### Pipelines\n",
    "\n",
    "\n"
   ]
  },
  {
   "cell_type": "code",
   "execution_count": null,
   "metadata": {},
   "outputs": [],
   "source": []
  }
 ],
 "metadata": {
  "kernelspec": {
   "display_name": "Python 3",
   "language": "python",
   "name": "python3"
  },
  "language_info": {
   "codemirror_mode": {
    "name": "ipython",
    "version": 3
   },
   "file_extension": ".py",
   "mimetype": "text/x-python",
   "name": "python",
   "nbconvert_exporter": "python",
   "pygments_lexer": "ipython3",
   "version": "3.6.6"
  }
 },
 "nbformat": 4,
 "nbformat_minor": 2
}
