{
 "cells": [
  {
   "cell_type": "markdown",
   "metadata": {},
   "source": [
    "# El paisaje de Machine Learning"
   ]
  },
  {
   "cell_type": "markdown",
   "metadata": {},
   "source": [
    "En la actualidad las personas tienen una idea del ML muy enlazada a una imagen de un robot. Pero ML no es solo un futuro fantasioso, en verdad ya esta en nuestro presente. De hecho ya ha estado por muchas decadas en aplicaciones especializadas, tales como el OCR (Optical Character Recognition). Pero la verdadera primera vez que ML se volvio famoso fue con el spam filter.<br>\n",
    "¿Cuando el ML empieza y cuando termina? Que significa realmente que una maquina \"aprenda\". Si descargo algo de wikipedia ¿mi maquina ya aprendio algo?<br>\n",
    "<b>¿Que es Machine Learning?</b><br>\n",
    "ML es el arte de programar computadoras tal que estas aprendan a partir de los datos.<br>\n",
    "Por ejemplo el filtro de spam es un programa de ML porque puede aprender a identificar spam a partir de ejemplos de correos de spam (por ejemplo aquellos que fueron identificados por los usuarios) y ejemplos de emails regulares (que no son spam). Los ejemplos que el sistema usa para aprender son llamados <b>training set</b>. Cada ejemplo de entrenamiento es llamado <b>training instance</b>(o ejemplo). En este caso, la tarea T (haciendo referencia a la definicion de Tom Mitchell) es el marcar si es o no spam a los nuevos emails, la experiencia E es el <b>training data</b> y el desempeño P necesita ser definido.; por ejemplo se puede usar la proporción de correos electrónicos correctamente clasificados.<br>\n",
    "Esta medida de desempeño es llamado accuracy (exactitud) y es usado en tareas de clasificación.\n"
   ]
  }
 ],
 "metadata": {
  "kernelspec": {
   "display_name": "Python 3",
   "language": "python",
   "name": "python3"
  },
  "language_info": {
   "codemirror_mode": {
    "name": "ipython",
    "version": 3
   },
   "file_extension": ".py",
   "mimetype": "text/x-python",
   "name": "python",
   "nbconvert_exporter": "python",
   "pygments_lexer": "ipython3",
   "version": "3.7.3"
  }
 },
 "nbformat": 4,
 "nbformat_minor": 2
}
