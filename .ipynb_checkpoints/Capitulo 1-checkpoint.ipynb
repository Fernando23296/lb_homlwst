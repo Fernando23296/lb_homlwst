{
 "cells": [
  {
   "cell_type": "markdown",
   "metadata": {},
   "source": [
    "# El paisaje de Machine Learning"
   ]
  },
  {
   "cell_type": "markdown",
   "metadata": {},
   "source": [
    "En la actualidad las personas tienen una idea del ML muy enlazada a una imagen de un robot. Pero ML no es solo un futuro fantasioso, en verdad ya esta en nuestro presente. De hecho ya ha estado por muchas decadas en aplicaciones especializadas, tales como el OCR (Optical Character Recognition). Pero la verdadera primera vez que ML se volvio famoso fue con el spam filter.<br>\n",
    "¿Cuando el ML empieza y cuando termina? Que significa realmente que una maquina \"aprenda\". Si descargo algo de wikipedia ¿mi maquina ya aprendio algo?<br>\n",
    "#### ¿Que es Machine Learning?<br>\n",
    "ML es el arte de programar computadoras tal que estas aprendan a partir de los datos.<br>\n",
    "Por ejemplo el filtro de spam es un programa de ML porque puede aprender a identificar spam a partir de ejemplos de correos de spam (por ejemplo aquellos que fueron identificados por los usuarios) y ejemplos de emails regulares (que no son spam). Los ejemplos que el sistema usa para aprender son llamados <b>training set</b>. Cada ejemplo de entrenamiento es llamado <b>training instance</b>(o ejemplo). En este caso, la tarea T (haciendo referencia a la definicion de Tom Mitchell) es el marcar si es o no spam a los nuevos emails, la experiencia E es el <b>training data</b> y el desempeño P necesita ser definido.; por ejemplo se puede usar la proporción de correos electrónicos correctamente clasificados.<br>\n",
    "Esta medida de desempeño es llamado accuracy (exactitud) y es usado en tareas de clasificación.\n",
    "<br>\n",
    "#### ¿Por qué usar ML?\n",
    "Como hariamos para escribir un filtro de spam usando la tecnica de programacion tradicional:<br>\n",
    "1.- Primero se ve como luce un mensaje de spam. Acá nos damos cuenta sobre palabras y frases (\"credit card\",\"free\",\"amazing\") que aparecen en el subject. Tal vez, nos encontremos con otros patrones en el nombre de remitente, el email y más. <br>\n",
    "2.- Luego se debera escribir un algoritmo de deteccion para cada uno de los patrones que hemos identificado, y el programa marcaria los emauls como spam si un numero de estos patrones es detectado.<br>\n",
    "3.- Luego se procederia a testear el programa y repetir los pasos 1 y 2 hasta que este lo suficientemente bien.<br>\n",
    "<br>\n",
    "Ya que el problema no es trivial, el programa eventualmente hará crecer la lista de reglas, lo cual es dificil de mantener.\n",
    "En contraste, un filtro de spam basado en tecnicas de ML automaticamente aprende que palabras y frases son buenos predictores de spam mediante la deteccion de patrones frecuentes inusuales de palabras en los ejemplos de spam comparados con los que no son spam. El programa es mucho mas corto y sencillo de mantener, y muchas veces mas preciso.<br>\n",
    "Otra situacion seria la de que el Spammer se da cuenta que al usar \"4U\" su mensaje esta siendo enviado a la seccion de spam, por lo cual dejaria de usar \"4U\" y lo cambiaria a \"For you\". Si estamos programando nuestro detector de spam en la manera convencional entonces el programador debera cambiar el \"4U\" por \"For you\". Si el spammer sigue cambiando el programador tendra que hacer esto por siempre. <br>\n",
    "En contraste al filtro de spam basado en ML, este automaticamente se da cuenta que \"For u\" ha empezado a ser muy frecuentemente marcado como spam por los usuarios, entonces lo clasificaria dentro de la categoria de spam, sin necesidad de la ayuda del programador.<br>\n",
    "Otra area donde el Machine Learning brilla es para problemas que o bien son muy complejos con enfoques tradicionales o no tienen un algoritmo conocido. <br>\n",
    "El ML tambien ayuda a los humanos a aprender. Continuando con el ejercicio anterior, el algoritmo de ML puede ser inspeccionado para ver como ha aprendido, en este caso, ver que palabras y combinaciones de palabras cree que son propias de un mensaje de spam. A veces esto revela nuevas tendencias, y a la vez una nueva manera de entender un problema.<br>\n",
    "Aplicar tecnicas de ML en grandes cantidades de datos puede ayudar a descubrir patrones que no son visibles a la primera. Esto es llamado <b>data mining</b>.\n",
    "Para resumir:\n",
    "<ul>\n",
    "    <li>Problemas donde ela solucion requiera mucha intervencion manual en modificar listas de reglas: un algortimo de ML podria simplificar el codifo y tener mejor desempeño.</li>\n",
    "    <li>Problemas complejos donde parece no haber una buena solucion, las mejores tecnicas de ML pueden encontrar una solucion</li>\n",
    "    <li>Un sistema de ML puede adaptarse a nuevos datos</li>\n",
    "</ul>\n",
    "\n",
    "#### Tipos de Sistemas de ML\n",
    "Hay tantos tipos diferentes de sistemas de ML, por lo cual lo clasiificaremos en categorias basadas en:\n",
    "<ol>\n",
    "        \n",
    "</ol>"
   ]
  },
  {
   "cell_type": "code",
   "execution_count": null,
   "metadata": {},
   "outputs": [],
   "source": []
  },
  {
   "cell_type": "code",
   "execution_count": null,
   "metadata": {},
   "outputs": [],
   "source": []
  },
  {
   "cell_type": "code",
   "execution_count": null,
   "metadata": {},
   "outputs": [],
   "source": []
  },
  {
   "cell_type": "code",
   "execution_count": null,
   "metadata": {},
   "outputs": [],
   "source": []
  }
 ],
 "metadata": {
  "kernelspec": {
   "display_name": "Python 3",
   "language": "python",
   "name": "python3"
  },
  "language_info": {
   "codemirror_mode": {
    "name": "ipython",
    "version": 3
   },
   "file_extension": ".py",
   "mimetype": "text/x-python",
   "name": "python",
   "nbconvert_exporter": "python",
   "pygments_lexer": "ipython3",
   "version": "3.7.3"
  }
 },
 "nbformat": 4,
 "nbformat_minor": 2
}
