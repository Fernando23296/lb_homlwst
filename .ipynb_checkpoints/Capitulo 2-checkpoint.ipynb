{
 "cells": [
  {
   "cell_type": "markdown",
   "metadata": {},
   "source": [
    "## Capitulo 2\n",
    "## End-to-End Machine Learning Project\n",
    "\n"
   ]
  },
  {
   "cell_type": "markdown",
   "metadata": {},
   "source": [
    "Los pasos principales a seguir siendo un data scientist:\n",
    "* Mirar la imagen completa.\n",
    "* Obtener los datos.\n",
    "* Descubrir y visualizar los datos para obtener ideas.\n",
    "* Preparar los datos para los algoritmos de Machine Learning.\n",
    "* Seleccionar los modelos y entrenarlos.\n",
    "* Afinar el modelo.\n",
    "* Presentar una solución.\n",
    "* Lanzar, monitorear y mantener el sistema.\n",
    "<br>\n",
    "\n",
    "#### Trabajar con datos reales\n",
    "Cuando se trabaja con ML es lo mejor experimentar con datos del mundo real, no solo datasets artificiales. Afortunadamente hay miles de datasets abiertos de donde se puede elegir, abarcando todo tipo de dominios. A continuacion lugares donde se puede conseguir datos:\n",
    "* UCI\n",
    "* Kaggle Datasets\n",
    "* Amazon AWS datasets\n",
    "* Wikipedia's list of ML datasets\n",
    "\n",
    "Ahora usaremos el dataset de \"California Housing Prices\" del repositorio StatLib. Este esta basado en los datos del censo de 1990 de California, no es exacto pero tiene muchas cualidades para el aprendizaje, asi que vamos a pretender que son datos recientes. Tambien añadimos un atributo categórico y eliminamos algunas caracteristicas para aprender mejor (?).\n",
    "\n",
    "#### Mirar la imagen completa\n",
    "La primera tarea es el de construir un modelo de los precios de las casas en California usando los datos del censo de California. Estos datos tienen metricas como el de la poblacion, ingreso medio, precio medio de las viviendas, y asi para cada grupo de bloque en California. Los grupos de bloques son las unidades geograficas mas pequeñas que el <i>US Census Bureau</i> publica en sus ejemplos de datos (Un grupo de bloque puede tener una poblacion de 600 a 3000 personas). Los llamaremos distritos a modo de abreviar. "
   ]
  },
  {
   "cell_type": "code",
   "execution_count": null,
   "metadata": {},
   "outputs": [],
   "source": []
  }
 ],
 "metadata": {
  "kernelspec": {
   "display_name": "Python 3",
   "language": "python",
   "name": "python3"
  },
  "language_info": {
   "codemirror_mode": {
    "name": "ipython",
    "version": 3
   },
   "file_extension": ".py",
   "mimetype": "text/x-python",
   "name": "python",
   "nbconvert_exporter": "python",
   "pygments_lexer": "ipython3",
   "version": "3.6.6"
  }
 },
 "nbformat": 4,
 "nbformat_minor": 2
}
